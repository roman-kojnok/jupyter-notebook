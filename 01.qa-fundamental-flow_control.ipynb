{
 "cells": [
  {
   "cell_type": "markdown",
   "id": "744cdeec",
   "metadata": {},
   "source": [
    "# LISTS"
   ]
  },
  {
   "cell_type": "code",
   "execution_count": 2,
   "id": "213ddbb6",
   "metadata": {},
   "outputs": [],
   "source": [
    "cheese = ['Cheddar', 'Stilton', 'Cornish Yarg']"
   ]
  },
  {
   "cell_type": "code",
   "execution_count": 3,
   "id": "3e81bf53",
   "metadata": {},
   "outputs": [
    {
     "name": "stdout",
     "output_type": "stream",
     "text": [
      "Stilton\n"
     ]
    }
   ],
   "source": [
    "print(cheese[1])"
   ]
  },
  {
   "cell_type": "code",
   "execution_count": 6,
   "id": "049ba7da",
   "metadata": {},
   "outputs": [],
   "source": [
    "cheese[-1] = 'Red Laicester'"
   ]
  },
  {
   "cell_type": "code",
   "execution_count": 7,
   "id": "1bce47be",
   "metadata": {
    "scrolled": true
   },
   "outputs": [
    {
     "name": "stdout",
     "output_type": "stream",
     "text": [
      "['Cheddar', 'Stilton', 'Red Laicester']\n"
     ]
    }
   ],
   "source": [
    "print(cheese)"
   ]
  },
  {
   "cell_type": "markdown",
   "id": "b4d10ee1",
   "metadata": {},
   "source": [
    "## Multi-dimensional lists are just lists containing others"
   ]
  },
  {
   "cell_type": "code",
   "execution_count": 11,
   "id": "75a21175",
   "metadata": {},
   "outputs": [],
   "source": [
    "cheese_2 = ['Cheddar', 'Stilton', ['Camembert', 'Brie'], 'Cornish Yarg']"
   ]
  },
  {
   "cell_type": "code",
   "execution_count": 14,
   "id": "edd8f811",
   "metadata": {},
   "outputs": [
    {
     "name": "stdout",
     "output_type": "stream",
     "text": [
      "Camembert\n"
     ]
    }
   ],
   "source": [
    "print(cheese_2[2][0])"
   ]
  },
  {
   "cell_type": "markdown",
   "id": "8b3af674",
   "metadata": {},
   "source": [
    "# TUPLES"
   ]
  },
  {
   "cell_type": "code",
   "execution_count": 17,
   "id": "b092b979",
   "metadata": {},
   "outputs": [],
   "source": [
    "mytuple = 'eggs', 'bacon', 'spam', 'tea'"
   ]
  },
  {
   "cell_type": "code",
   "execution_count": 18,
   "id": "83b3bb6c",
   "metadata": {},
   "outputs": [
    {
     "name": "stdout",
     "output_type": "stream",
     "text": [
      "('eggs', 'bacon', 'spam', 'tea')\n"
     ]
    }
   ],
   "source": [
    "print(mytuple)"
   ]
  },
  {
   "cell_type": "code",
   "execution_count": 19,
   "id": "25bea94e",
   "metadata": {},
   "outputs": [
    {
     "name": "stdout",
     "output_type": "stream",
     "text": [
      "bacon\n"
     ]
    }
   ],
   "source": [
    "print(mytuple[1])"
   ]
  },
  {
   "cell_type": "code",
   "execution_count": 20,
   "id": "523c73e8",
   "metadata": {},
   "outputs": [
    {
     "name": "stdout",
     "output_type": "stream",
     "text": [
      "tea\n"
     ]
    }
   ],
   "source": [
    "print(mytuple[-1])"
   ]
  },
  {
   "cell_type": "code",
   "execution_count": 23,
   "id": "7f062b5e",
   "metadata": {},
   "outputs": [
    {
     "ename": "TypeError",
     "evalue": "'tuple' object does not support item assignment",
     "output_type": "error",
     "traceback": [
      "\u001b[0;31m---------------------------------------------------------------------------\u001b[0m",
      "\u001b[0;31mTypeError\u001b[0m                                 Traceback (most recent call last)",
      "\u001b[0;32m/tmp/ipykernel_15375/639058147.py\u001b[0m in \u001b[0;36m<module>\u001b[0;34m\u001b[0m\n\u001b[0;32m----> 1\u001b[0;31m \u001b[0mmytuple\u001b[0m\u001b[0;34m[\u001b[0m\u001b[0;36m2\u001b[0m\u001b[0;34m]\u001b[0m \u001b[0;34m=\u001b[0m \u001b[0;34m'John'\u001b[0m\u001b[0;34m\u001b[0m\u001b[0;34m\u001b[0m\u001b[0m\n\u001b[0m",
      "\u001b[0;31mTypeError\u001b[0m: 'tuple' object does not support item assignment"
     ]
    }
   ],
   "source": [
    "mytuple[2] = 'John'"
   ]
  },
  {
   "cell_type": "markdown",
   "id": "35e837bd",
   "metadata": {},
   "source": [
    "# DICTIONARIES  mydict = {'key1':'object1', 'key2':'object2'}"
   ]
  },
  {
   "cell_type": "code",
   "execution_count": 25,
   "id": "2dd7213a",
   "metadata": {},
   "outputs": [],
   "source": [
    "mydict = {'Australia':'Sydney', 'Francia':'Paris'}"
   ]
  },
  {
   "cell_type": "code",
   "execution_count": 26,
   "id": "d517b5db",
   "metadata": {},
   "outputs": [
    {
     "name": "stdout",
     "output_type": "stream",
     "text": [
      "{'Australia': 'Sydney', 'Francia': 'Paris'}\n"
     ]
    }
   ],
   "source": [
    "print(mydict)"
   ]
  },
  {
   "cell_type": "code",
   "execution_count": 28,
   "id": "b5ffd7c1",
   "metadata": {},
   "outputs": [
    {
     "name": "stdout",
     "output_type": "stream",
     "text": [
      "Paris\n"
     ]
    }
   ],
   "source": [
    "print(mydict['Francia'])"
   ]
  },
  {
   "cell_type": "code",
   "execution_count": 29,
   "id": "b677cc58",
   "metadata": {},
   "outputs": [],
   "source": [
    "country = 'Iceland'"
   ]
  },
  {
   "cell_type": "code",
   "execution_count": 30,
   "id": "0b9350bc",
   "metadata": {},
   "outputs": [],
   "source": [
    "mydict[country] = 'Reykjavik'"
   ]
  },
  {
   "cell_type": "code",
   "execution_count": 31,
   "id": "46ced46d",
   "metadata": {},
   "outputs": [
    {
     "name": "stdout",
     "output_type": "stream",
     "text": [
      "{'Australia': 'Sydney', 'Francia': 'Paris', 'Iceland': 'Reykjavik'}\n"
     ]
    }
   ],
   "source": [
    "print(mydict)"
   ]
  },
  {
   "cell_type": "markdown",
   "id": "d915e54f",
   "metadata": {},
   "source": [
    "# Python Operators"
   ]
  },
  {
   "cell_type": "markdown",
   "id": "e279874c",
   "metadata": {},
   "source": [
    "## Difference between / and //:"
   ]
  },
  {
   "cell_type": "code",
   "execution_count": 36,
   "id": "6909abfc",
   "metadata": {},
   "outputs": [],
   "source": [
    "x = 2"
   ]
  },
  {
   "cell_type": "code",
   "execution_count": 37,
   "id": "f1a73761",
   "metadata": {},
   "outputs": [
    {
     "name": "stdout",
     "output_type": "stream",
     "text": [
      "2\n"
     ]
    }
   ],
   "source": [
    "print(x)"
   ]
  },
  {
   "cell_type": "code",
   "execution_count": 38,
   "id": "ce3abfb2",
   "metadata": {},
   "outputs": [],
   "source": [
    "x = x/3"
   ]
  },
  {
   "cell_type": "code",
   "execution_count": 39,
   "id": "692c7c7e",
   "metadata": {},
   "outputs": [
    {
     "name": "stdout",
     "output_type": "stream",
     "text": [
      "0.6666666666666666\n"
     ]
    }
   ],
   "source": [
    "print(x)"
   ]
  },
  {
   "cell_type": "code",
   "execution_count": 40,
   "id": "4b82265f",
   "metadata": {},
   "outputs": [],
   "source": [
    "x = x//3"
   ]
  },
  {
   "cell_type": "code",
   "execution_count": 41,
   "id": "f3fb9f5d",
   "metadata": {},
   "outputs": [
    {
     "name": "stdout",
     "output_type": "stream",
     "text": [
      "0.0\n"
     ]
    }
   ],
   "source": [
    "print(x)"
   ]
  },
  {
   "cell_type": "markdown",
   "id": "7c47b8f3",
   "metadata": {},
   "source": [
    "# CONDITIONALS:"
   ]
  },
  {
   "cell_type": "code",
   "execution_count": null,
   "id": "0481158f",
   "metadata": {},
   "outputs": [],
   "source": [
    "if condition:\n",
    "    statements\n",
    "elif condition:\n",
    "    statements\n",
    "else:\n",
    "    statements"
   ]
  },
  {
   "cell_type": "markdown",
   "id": "62015b93",
   "metadata": {},
   "source": [
    "# BOOLEAN & LOGICAL OPERATORS"
   ]
  },
  {
   "cell_type": "code",
   "execution_count": null,
   "id": "3013bdc1",
   "metadata": {},
   "outputs": [],
   "source": [
    "if 0 < number < 42 < distance:\n",
    "    print(\"number and distance are within range\")\n",
    "else:\n",
    "    print(\"number and distance are out of range\")"
   ]
  },
  {
   "cell_type": "code",
   "execution_count": null,
   "id": "4af44b7e",
   "metadata": {},
   "outputs": [],
   "source": [
    "# same as:\n",
    "if 0 < number and number < 42 and 42 < distance:\n",
    "    print(\"number and distance are within range\")\n",
    "else:\n",
    "    print(\"number and distance are out of range\")"
   ]
  },
  {
   "cell_type": "code",
   "execution_count": null,
   "id": "308f36e7",
   "metadata": {},
   "outputs": [],
   "source": [
    "# can be combined:\n",
    "if 0 < number < 42 and distance !=20:\n",
    "    print(\"number and distance are within range\")\n",
    "else:\n",
    "    print(\"number and distance are out of range\")"
   ]
  },
  {
   "cell_type": "markdown",
   "id": "45522908",
   "metadata": {},
   "source": [
    "# SEQUENCE AND COLLECTION TESTS:"
   ]
  },
  {
   "cell_type": "code",
   "execution_count": 45,
   "id": "c1b385cb",
   "metadata": {},
   "outputs": [],
   "source": [
    "my_list = [0, 1, 2, 3, 4, 5]"
   ]
  },
  {
   "cell_type": "code",
   "execution_count": 46,
   "id": "ceacd711",
   "metadata": {},
   "outputs": [
    {
     "name": "stdout",
     "output_type": "stream",
     "text": [
      "my_list is TRUE\n"
     ]
    }
   ],
   "source": [
    "if my_list:\n",
    "    print(\"my_list is TRUE\")"
   ]
  },
  {
   "cell_type": "code",
   "execution_count": 48,
   "id": "2dc9003d",
   "metadata": {},
   "outputs": [
    {
     "name": "stdout",
     "output_type": "stream",
     "text": [
      "my_list: not all are True\n",
      "my_list: at least one of item is True\n"
     ]
    }
   ],
   "source": [
    "# built-in 'all' and 'any'\n",
    "my_list = [0, 1, 2, 3, 4, 5]\n",
    "if not all(my_list):\n",
    "    # 0-Zero in my_list is not true\n",
    "    print(\"my_list: not all are True\")\n",
    "    \n",
    "if any(my_list):\n",
    "    print(\"my_list: at least one of item is True\")"
   ]
  },
  {
   "cell_type": "markdown",
   "id": "c962da32",
   "metadata": {},
   "source": [
    "# OBJECT TYPES:"
   ]
  },
  {
   "cell_type": "code",
   "execution_count": 49,
   "id": "428ff4ea",
   "metadata": {},
   "outputs": [
    {
     "ename": "TypeError",
     "evalue": "'<' not supported between instances of 'str' and 'int'",
     "output_type": "error",
     "traceback": [
      "\u001b[0;31m---------------------------------------------------------------------------\u001b[0m",
      "\u001b[0;31mTypeError\u001b[0m                                 Traceback (most recent call last)",
      "\u001b[0;32m/tmp/ipykernel_15375/1456054231.py\u001b[0m in \u001b[0;36m<module>\u001b[0;34m\u001b[0m\n\u001b[1;32m      2\u001b[0m \u001b[0mtxt\u001b[0m \u001b[0;34m=\u001b[0m \u001b[0;34m'3'\u001b[0m\u001b[0;34m\u001b[0m\u001b[0;34m\u001b[0m\u001b[0m\n\u001b[1;32m      3\u001b[0m \u001b[0;34m\u001b[0m\u001b[0m\n\u001b[0;32m----> 4\u001b[0;31m \u001b[0;32mif\u001b[0m \u001b[0mtxt\u001b[0m \u001b[0;34m<\u001b[0m \u001b[0mnum\u001b[0m\u001b[0;34m:\u001b[0m\u001b[0;34m\u001b[0m\u001b[0;34m\u001b[0m\u001b[0m\n\u001b[0m\u001b[1;32m      5\u001b[0m     \u001b[0mprint\u001b[0m\u001b[0;34m(\u001b[0m\u001b[0;34m'Wow!'\u001b[0m\u001b[0;34m)\u001b[0m\u001b[0;34m\u001b[0m\u001b[0;34m\u001b[0m\u001b[0m\n\u001b[1;32m      6\u001b[0m \u001b[0;32melse\u001b[0m\u001b[0;34m:\u001b[0m\u001b[0;34m\u001b[0m\u001b[0;34m\u001b[0m\u001b[0m\n",
      "\u001b[0;31mTypeError\u001b[0m: '<' not supported between instances of 'str' and 'int'"
     ]
    }
   ],
   "source": [
    "# Type error: unorderable\n",
    "num = 42\n",
    "txt = '3'\n",
    "\n",
    "if txt < num:\n",
    "    print('Wow!')\n",
    "else:\n",
    "    print('Doh!')"
   ]
  },
  {
   "cell_type": "code",
   "execution_count": 50,
   "id": "35670b0b",
   "metadata": {},
   "outputs": [
    {
     "name": "stdout",
     "output_type": "stream",
     "text": [
      "Wow!\n"
     ]
    }
   ],
   "source": [
    "# fixed: converted\n",
    "num = 42\n",
    "txt = '3'\n",
    "\n",
    "if int(txt) < num:\n",
    "    print('Wow!')\n",
    "else:\n",
    "    print('Doh!')"
   ]
  },
  {
   "cell_type": "markdown",
   "id": "75a99e19",
   "metadata": {},
   "source": [
    "# EXCEPTION HANDLING:"
   ]
  },
  {
   "cell_type": "code",
   "execution_count": 58,
   "id": "aadc2ab0",
   "metadata": {},
   "outputs": [
    {
     "name": "stderr",
     "output_type": "stream",
     "text": [
      "Invalid types compared\n"
     ]
    }
   ],
   "source": [
    "import sys\n",
    "\n",
    "num = 42\n",
    "txt = '3'\n",
    "\n",
    "try:\n",
    "    if txt < num:\n",
    "        print('Wow!')\n",
    "    else:\n",
    "        print('Doh!')\n",
    "except TypeError:\n",
    "    print(\"Invalid types compared\", file=sys.stderr)\n",
    "        "
   ]
  },
  {
   "cell_type": "markdown",
   "id": "35f295b6",
   "metadata": {},
   "source": [
    "# WHILE LOOPS"
   ]
  },
  {
   "cell_type": "code",
   "execution_count": null,
   "id": "dd7d7b2e",
   "metadata": {},
   "outputs": [],
   "source": [
    "while condition:\n",
    "    loop body"
   ]
  },
  {
   "cell_type": "code",
   "execution_count": 60,
   "id": "5263571f",
   "metadata": {},
   "outputs": [
    {
     "name": "stdout",
     "output_type": "stream",
     "text": [
      "Type \"done\" to complete: done\n"
     ]
    }
   ],
   "source": [
    "line = None\n",
    "\n",
    "while line != 'done':\n",
    "    line = input('Type \"done\" to complete: ')"
   ]
  },
  {
   "cell_type": "code",
   "execution_count": 61,
   "id": "bd6d8a2c",
   "metadata": {},
   "outputs": [
    {
     "name": "stdout",
     "output_type": "stream",
     "text": [
      "154\n",
      "18\n",
      "64\n",
      "134\n",
      "46\n"
     ]
    }
   ],
   "source": [
    "# pop() on a list removes and returns the last item\n",
    "myl = [23, 67, 32, 9, 77]\n",
    "\n",
    "while myl:\n",
    "    print(myl.pop() * 2)"
   ]
  },
  {
   "cell_type": "code",
   "execution_count": 62,
   "id": "35185c8a",
   "metadata": {},
   "outputs": [
    {
     "name": "stdout",
     "output_type": "stream",
     "text": [
      "[]\n"
     ]
    }
   ],
   "source": [
    "print(myl)"
   ]
  },
  {
   "cell_type": "markdown",
   "id": "d069de40",
   "metadata": {},
   "source": [
    "## Loop Control Staements:\n",
    "- continue    perform next iteration\n",
    "- break       exit the loop at once\n",
    "- pass        Empty placeholder (do nothing)"
   ]
  },
  {
   "cell_type": "code",
   "execution_count": 63,
   "id": "5a640840",
   "metadata": {},
   "outputs": [
    {
     "name": "stdout",
     "output_type": "stream",
     "text": [
      "Loop expired:  64\n",
      "Final value:  64\n"
     ]
    }
   ],
   "source": [
    "i = 1\n",
    "j = 100\n",
    "\n",
    "while i < 42:\n",
    "    i = i * 2\n",
    "    if i > j: break\n",
    "else:\n",
    "    print(\"Loop expired: \", i)\n",
    "print(\"Final value: \", i)"
   ]
  },
  {
   "cell_type": "markdown",
   "id": "3c2a5eb4",
   "metadata": {},
   "source": [
    "# FOR LOOPS"
   ]
  },
  {
   "cell_type": "markdown",
   "id": "83db396f",
   "metadata": {},
   "source": [
    "## for target in object:\n",
    "    indented statements"
   ]
  },
  {
   "cell_type": "code",
   "execution_count": 65,
   "id": "e570717d",
   "metadata": {},
   "outputs": [
    {
     "name": "stdout",
     "output_type": "stream",
     "text": [
      "Cmd line argument: /home/m0rph3us/.local/lib/python3.7/site-packages/ipykernel_launcher.py\n",
      "Cmd line argument: -f\n",
      "Cmd line argument: /home/m0rph3us/.local/share/jupyter/runtime/kernel-af2dfdb1-2be5-4a57-a0b8-ee7c0b72aca6.json\n"
     ]
    }
   ],
   "source": [
    "import sys\n",
    "\n",
    "for arg in sys.argv:\n",
    "    print(\"Cmd line argument:\", arg)"
   ]
  },
  {
   "cell_type": "markdown",
   "id": "65c3b233",
   "metadata": {},
   "source": [
    "# ENUMERATE"
   ]
  },
  {
   "cell_type": "code",
   "execution_count": 66,
   "id": "36f37a92",
   "metadata": {},
   "outputs": [
    {
     "name": "stdout",
     "output_type": "stream",
     "text": [
      "index: 0 argument: /home/m0rph3us/.local/lib/python3.7/site-packages/ipykernel_launcher.py\n",
      "index: 1 argument: -f\n",
      "index: 2 argument: /home/m0rph3us/.local/share/jupyter/runtime/kernel-af2dfdb1-2be5-4a57-a0b8-ee7c0b72aca6.json\n"
     ]
    }
   ],
   "source": [
    "import sys\n",
    "\n",
    "for idx, arg in enumerate(sys.argv):\n",
    "    print(\"index:\", idx, \"argument:\", arg)"
   ]
  },
  {
   "cell_type": "code",
   "execution_count": 67,
   "id": "7bfca88c",
   "metadata": {},
   "outputs": [
    {
     "name": "stdout",
     "output_type": "stream",
     "text": [
      "1 Pedro\n",
      "2 Carolina\n",
      "3 Albert\n",
      "4 Monica"
     ]
    }
   ],
   "source": [
    "for nm, line in enumerate(open('names.txt'), start=1):\n",
    "    print(nm, line, end=\"\")"
   ]
  },
  {
   "cell_type": "markdown",
   "id": "b8f27dfd",
   "metadata": {},
   "source": [
    "# COUNTING \"FOR\" LOOPS"
   ]
  },
  {
   "cell_type": "code",
   "execution_count": 70,
   "id": "9b46c2b0",
   "metadata": {},
   "outputs": [
    {
     "name": "stdout",
     "output_type": "stream",
     "text": [
      "1\n",
      "2\n",
      "3\n",
      "4\n",
      "5\n",
      "6\n",
      "7\n",
      "8\n",
      "9\n",
      "10\n"
     ]
    }
   ],
   "source": [
    "i = 0\n",
    "for i in range(1, 11):\n",
    "    print(i)\n",
    "    i += 1"
   ]
  },
  {
   "cell_type": "code",
   "execution_count": 93,
   "id": "1a2047ec",
   "metadata": {
    "scrolled": true
   },
   "outputs": [
    {
     "name": "stdout",
     "output_type": "stream",
     "text": [
      "1\n",
      "3\n",
      "6\n",
      "32\n",
      "12\n",
      "46\n",
      "57\n"
     ]
    }
   ],
   "source": [
    "mylist = [1, 3, 6, 32, 12, 45, 56]\n",
    "for i in range(0, len(mylist)):\n",
    "    if mylist[i] > 42: mylist[i] += 1\n",
    "    print(mylist[i])"
   ]
  },
  {
   "cell_type": "code",
   "execution_count": 98,
   "id": "27c1bdb5",
   "metadata": {
    "scrolled": true
   },
   "outputs": [
    {
     "name": "stdout",
     "output_type": "stream",
     "text": [
      "1\n",
      "3\n",
      "6\n",
      "32\n",
      "12\n",
      "45\n",
      "56\n"
     ]
    }
   ],
   "source": [
    "mylist = [1, 3, 6, 32, 12, 45, 56]\n",
    "for num in mylist:\n",
    "    print(num)"
   ]
  },
  {
   "cell_type": "code",
   "execution_count": 105,
   "id": "eacd52ab",
   "metadata": {},
   "outputs": [
    {
     "name": "stdout",
     "output_type": "stream",
     "text": [
      "1 1\n",
      "2 3\n",
      "3 6\n",
      "4 32\n",
      "5 12\n",
      "6 45\n",
      "7 56\n"
     ]
    }
   ],
   "source": [
    "mylist = [1, 3, 6, 32, 12, 45, 56]\n",
    "for idx, num in enumerate(mylist, start=1):\n",
    "    if num > 60: mylist[idx] += 1\n",
    "    print(idx, num)"
   ]
  },
  {
   "cell_type": "code",
   "execution_count": 88,
   "id": "249ed1d6",
   "metadata": {},
   "outputs": [
    {
     "name": "stdout",
     "output_type": "stream",
     "text": [
      "luna\n",
      "hello\n",
      "beautiful\n"
     ]
    }
   ],
   "source": [
    "mylist2 = ['luna', 'hello', 'beautiful']\n",
    "for i in range(0, len(mylist)):\n",
    "    print(mylist[i])"
   ]
  },
  {
   "cell_type": "code",
   "execution_count": 89,
   "id": "c2b7995b",
   "metadata": {},
   "outputs": [
    {
     "name": "stdout",
     "output_type": "stream",
     "text": [
      "luna\n",
      "hello\n",
      "beautiful\n"
     ]
    }
   ],
   "source": [
    "for num in mylist2:\n",
    "    print(num)"
   ]
  },
  {
   "cell_type": "code",
   "execution_count": 90,
   "id": "35e3f325",
   "metadata": {},
   "outputs": [
    {
     "name": "stdout",
     "output_type": "stream",
     "text": [
      "1 luna\n",
      "2 hello\n",
      "3 beautiful\n"
     ]
    }
   ],
   "source": [
    "for idx, num in enumerate(mylist2, start=1):\n",
    "    print(idx, num)"
   ]
  },
  {
   "cell_type": "markdown",
   "id": "26acbc76",
   "metadata": {},
   "source": [
    "# ZIPPING THROUGH MULTIPLE LISTS\n",
    "## ZIP used to return a list of tuples"
   ]
  },
  {
   "cell_type": "code",
   "execution_count": 107,
   "id": "4a82b304",
   "metadata": {},
   "outputs": [
    {
     "name": "stdout",
     "output_type": "stream",
     "text": [
      "Total for Home Farm : 449\n",
      "Total for Macktony : 88\n",
      "Total for Big Farm : 59\n",
      "Total for Brown Rig : 61\n"
     ]
    }
   ],
   "source": [
    "farms = ['Home Farm', 'Macktony', 'Big Farm', 'Brown Rig']\n",
    "squirls = [42, 12, 2, 0]\n",
    "rabbits = [395, 68, 57, 32]\n",
    "moles = [12, 8, 0, 29]\n",
    "\n",
    "for f, s, r, m in zip(farms, squirls, rabbits, moles):\n",
    "    print('Total for', f, ':', + s + r + m)"
   ]
  },
  {
   "cell_type": "markdown",
   "id": "6391c02f",
   "metadata": {},
   "source": [
    "# CONDITIONAL EXPRESSIONS"
   ]
  },
  {
   "cell_type": "code",
   "execution_count": 2,
   "id": "b967cadf",
   "metadata": {},
   "outputs": [
    {
     "name": "stdout",
     "output_type": "stream",
     "text": [
      "i gt j\n",
      "i gt j\n",
      "i gt j\n"
     ]
    }
   ],
   "source": [
    "i = 42\n",
    "j = 3\n",
    "\n",
    "if i > j:\n",
    "    print(\"i gt j\")\n",
    "else:\n",
    "    print(\"i lt j\")\n",
    "\n",
    "print(\"i gt j\") if i > j else print(\"i lt j\")\n",
    "print(\"i gt j\" if i > j else \"i tl j\")"
   ]
  },
  {
   "cell_type": "code",
   "execution_count": 4,
   "id": "3036401f",
   "metadata": {},
   "outputs": [
    {
     "data": {
      "text/plain": [
       "1"
      ]
     },
     "execution_count": 4,
     "metadata": {},
     "output_type": "execute_result"
    }
   ],
   "source": [
    "# No ':' and 'elif' not allowed\n",
    "-1 if i < j else (+1 if i > j else 0)"
   ]
  },
  {
   "cell_type": "code",
   "execution_count": 7,
   "id": "c679b479",
   "metadata": {},
   "outputs": [
    {
     "name": "stdout",
     "output_type": "stream",
     "text": [
      "0\n",
      "54\n"
     ]
    }
   ],
   "source": [
    "# Beware of PRECEDENCE:\n",
    "a = 54\n",
    "answer = a + 5 if a < 42 else 0\n",
    "answer2 = a + (5 if a < 42 else 0)\n",
    "print(answer)\n",
    "print(answer2)"
   ]
  },
  {
   "cell_type": "markdown",
   "id": "7dca87b7",
   "metadata": {},
   "source": [
    "# UNCONDITIONAL CLOSEDOWN"
   ]
  },
  {
   "cell_type": "code",
   "execution_count": 10,
   "id": "add3d9fc",
   "metadata": {},
   "outputs": [
    {
     "ename": "NameError",
     "evalue": "name 'integer_expression' is not defined",
     "output_type": "error",
     "traceback": [
      "\u001b[0;31m---------------------------------------------------------------------------\u001b[0m",
      "\u001b[0;31mNameError\u001b[0m                                 Traceback (most recent call last)",
      "\u001b[0;32m/tmp/ipykernel_17765/937154216.py\u001b[0m in \u001b[0;36m<module>\u001b[0;34m\u001b[0m\n\u001b[1;32m      1\u001b[0m \u001b[0;32mimport\u001b[0m \u001b[0mos\u001b[0m\u001b[0;34m\u001b[0m\u001b[0;34m\u001b[0m\u001b[0m\n\u001b[0;32m----> 2\u001b[0;31m \u001b[0mos\u001b[0m\u001b[0;34m.\u001b[0m\u001b[0m_exit\u001b[0m\u001b[0;34m(\u001b[0m\u001b[0minteger_expression\u001b[0m\u001b[0;34m)\u001b[0m\u001b[0;34m\u001b[0m\u001b[0;34m\u001b[0m\u001b[0m\n\u001b[0m",
      "\u001b[0;31mNameError\u001b[0m: name 'integer_expression' is not defined"
     ]
    }
   ],
   "source": [
    "import os\n",
    "os._exit(integer_expression)"
   ]
  },
  {
   "cell_type": "code",
   "execution_count": null,
   "id": "5d38fb13",
   "metadata": {},
   "outputs": [],
   "source": [
    "os.abort()"
   ]
  },
  {
   "cell_type": "code",
   "execution_count": 9,
   "id": "e8daa2cc",
   "metadata": {},
   "outputs": [
    {
     "ename": "SystemExit",
     "evalue": "Goodbye",
     "output_type": "error",
     "traceback": [
      "An exception has occurred, use %tb to see the full traceback.\n",
      "\u001b[0;31mSystemExit\u001b[0m\u001b[0;31m:\u001b[0m Goodbye\n"
     ]
    },
    {
     "name": "stderr",
     "output_type": "stream",
     "text": [
      "/home/m0rph3us/.local/lib/python3.7/site-packages/IPython/core/interactiveshell.py:3561: UserWarning: To exit: use 'exit', 'quit', or Ctrl-D.\n",
      "  warn(\"To exit: use 'exit', 'quit', or Ctrl-D.\", stacklevel=1)\n"
     ]
    }
   ],
   "source": [
    "import sys\n",
    "# sys.exit(expression)  Terminate a process using\n",
    "sys.exit(\"Goodbye\")"
   ]
  },
  {
   "cell_type": "code",
   "execution_count": null,
   "id": "7cad24a6",
   "metadata": {},
   "outputs": [],
   "source": []
  }
 ],
 "metadata": {
  "kernelspec": {
   "display_name": "Python 3 (ipykernel)",
   "language": "python",
   "name": "python3"
  },
  "language_info": {
   "codemirror_mode": {
    "name": "ipython",
    "version": 3
   },
   "file_extension": ".py",
   "mimetype": "text/x-python",
   "name": "python",
   "nbconvert_exporter": "python",
   "pygments_lexer": "ipython3",
   "version": "3.7.3"
  }
 },
 "nbformat": 4,
 "nbformat_minor": 5
}
