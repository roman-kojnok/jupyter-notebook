{
 "cells": [
  {
   "cell_type": "markdown",
   "id": "f49ff219",
   "metadata": {},
   "source": [
    "# STRING HANDLING"
   ]
  },
  {
   "cell_type": "code",
   "execution_count": null,
   "id": "a8785718",
   "metadata": {},
   "outputs": [],
   "source": []
  },
  {
   "cell_type": "code",
   "execution_count": 1,
   "id": "bfe9ec31",
   "metadata": {},
   "outputs": [],
   "source": [
    "# Strings in Python3 are Unicode\n",
    "euro = \"\\u20ac\""
   ]
  },
  {
   "cell_type": "code",
   "execution_count": 2,
   "id": "0465b85b",
   "metadata": {},
   "outputs": [
    {
     "data": {
      "text/plain": [
       "'€'"
      ]
     },
     "execution_count": 2,
     "metadata": {},
     "output_type": "execute_result"
    }
   ],
   "source": [
    "euro"
   ]
  },
  {
   "cell_type": "code",
   "execution_count": 5,
   "id": "9f7e4566",
   "metadata": {},
   "outputs": [],
   "source": [
    "euro = \"\\N{euro sign}\""
   ]
  },
  {
   "cell_type": "code",
   "execution_count": 6,
   "id": "e78dbc30",
   "metadata": {},
   "outputs": [
    {
     "name": "stdout",
     "output_type": "stream",
     "text": [
      "€\n"
     ]
    }
   ],
   "source": [
    "print(euro)"
   ]
  },
  {
   "cell_type": "code",
   "execution_count": 7,
   "id": "15248c12",
   "metadata": {},
   "outputs": [],
   "source": [
    "# For low-level interfaces we have bytes() and bytearray()\n",
    "chars_as_bytes = b\"single-byte string\""
   ]
  },
  {
   "cell_type": "code",
   "execution_count": 8,
   "id": "3599940c",
   "metadata": {},
   "outputs": [
    {
     "name": "stdout",
     "output_type": "stream",
     "text": [
      "b'single-byte string'\n"
     ]
    }
   ],
   "source": [
    "print(chars_as_bytes)"
   ]
  },
  {
   "cell_type": "markdown",
   "id": "95656eb7",
   "metadata": {},
   "source": [
    "## Convertion between strings and bytes:\n",
    "## string.encode() <-----> bytes.decode()"
   ]
  },
  {
   "cell_type": "code",
   "execution_count": 10,
   "id": "9805d4ce",
   "metadata": {},
   "outputs": [],
   "source": [
    "# UTF-8 is default encoding"
   ]
  },
  {
   "cell_type": "code",
   "execution_count": null,
   "id": "1ad48202",
   "metadata": {},
   "outputs": [],
   "source": [
    "# -*- coding: latin-1 -*-"
   ]
  },
  {
   "cell_type": "code",
   "execution_count": 11,
   "id": "6f78380a",
   "metadata": {},
   "outputs": [
    {
     "name": "stdout",
     "output_type": "stream",
     "text": [
      "utf-8\n"
     ]
    }
   ],
   "source": [
    "import sys\n",
    "default = sys.getdefaultencoding()\n",
    "print(default)"
   ]
  },
  {
   "cell_type": "markdown",
   "id": "818ebbf5",
   "metadata": {},
   "source": [
    "# PRINT() & ESCAPE CHARACTER"
   ]
  },
  {
   "cell_type": "code",
   "execution_count": 12,
   "id": "d61504a7",
   "metadata": {},
   "outputs": [
    {
     "name": "stdout",
     "output_type": "stream",
     "text": [
      "\r\n",
      " \u0001\u0002\u0003\n"
     ]
    }
   ],
   "source": [
    "print( '\\r\\n \\1\\2\\3')"
   ]
  },
  {
   "cell_type": "code",
   "execution_count": 13,
   "id": "8374a703",
   "metadata": {},
   "outputs": [
    {
     "name": "stdout",
     "output_type": "stream",
     "text": [
      "\\r\\n \\1\\2\\3\n"
     ]
    }
   ],
   "source": [
    "print( r'\\r\\n \\1\\2\\3')"
   ]
  },
  {
   "cell_type": "markdown",
   "id": "ced16ee4",
   "metadata": {},
   "source": [
    "# STRING CONCATENATION"
   ]
  },
  {
   "cell_type": "code",
   "execution_count": 14,
   "id": "075ae92c",
   "metadata": {},
   "outputs": [],
   "source": [
    "name = 'fred' 'pedro'"
   ]
  },
  {
   "cell_type": "code",
   "execution_count": 15,
   "id": "3f78d81a",
   "metadata": {},
   "outputs": [
    {
     "data": {
      "text/plain": [
       "'fredpedro'"
      ]
     },
     "execution_count": 15,
     "metadata": {},
     "output_type": "execute_result"
    }
   ],
   "source": [
    "name"
   ]
  },
  {
   "cell_type": "code",
   "execution_count": 16,
   "id": "ebb9cfbb",
   "metadata": {},
   "outputs": [],
   "source": [
    "name = 'fred' \\"
   ]
  },
  {
   "cell_type": "code",
   "execution_count": 17,
   "id": "9d297e3c",
   "metadata": {},
   "outputs": [
    {
     "data": {
      "text/plain": [
       "'fred'"
      ]
     },
     "execution_count": 17,
     "metadata": {},
     "output_type": "execute_result"
    }
   ],
   "source": [
    "name"
   ]
  },
  {
   "cell_type": "markdown",
   "id": "c126aabc",
   "metadata": {},
   "source": [
    "# STRING TESTS"
   ]
  },
  {
   "cell_type": "code",
   "execution_count": 23,
   "id": "ee5159d8",
   "metadata": {},
   "outputs": [
    {
     "name": "stdout",
     "output_type": "stream",
     "text": [
      "2\n",
      "1\n"
     ]
    }
   ],
   "source": [
    "import re\n",
    "text = 'hello world'\n",
    "\n",
    "print(len( re.findall (r\"(o)\", text)))\n",
    "print(len( re.findall (r\"(o)\", text[5:])))"
   ]
  },
  {
   "cell_type": "code",
   "execution_count": null,
   "id": "6bf6545c",
   "metadata": {},
   "outputs": [],
   "source": []
  },
  {
   "cell_type": "code",
   "execution_count": 20,
   "id": "7d2d8e55",
   "metadata": {},
   "outputs": [
    {
     "name": "stdout",
     "output_type": "stream",
     "text": [
      "it's hell in there\n"
     ]
    }
   ],
   "source": [
    "if re.match(r\"^hell\", text):\n",
    "    print(\"it's hell in there\")"
   ]
  },
  {
   "cell_type": "code",
   "execution_count": 29,
   "id": "8eb26702",
   "metadata": {},
   "outputs": [],
   "source": [
    "import re\n",
    "text = 'hello world'\n",
    "\n",
    "if re.match(r\"^[A-Za-z]+$\", text):\n",
    "    print(\"string is all alpha\")"
   ]
  },
  {
   "cell_type": "code",
   "execution_count": 30,
   "id": "35521986",
   "metadata": {},
   "outputs": [
    {
     "name": "stdout",
     "output_type": "stream",
     "text": [
      "Text2 is whitespace\n"
     ]
    }
   ],
   "source": [
    "text2 = ' \\t\\r\\n'\n",
    "if re.match(r\"^\\s+$\", text2):\n",
    "    print(\"Text2 is whitespace\")"
   ]
  },
  {
   "cell_type": "markdown",
   "id": "e612d719",
   "metadata": {},
   "source": [
    "# STRING FORMATTING"
   ]
  },
  {
   "cell_type": "code",
   "execution_count": 31,
   "id": "e60e6f6e",
   "metadata": {},
   "outputs": [
    {
     "name": "stdout",
     "output_type": "stream",
     "text": [
      "hello 42\n"
     ]
    }
   ],
   "source": [
    "var1 = 42\n",
    "var2 = 'hello'\n",
    "\n",
    "print(\"{name} {value}\".format(value=var1, name=var2))"
   ]
  },
  {
   "cell_type": "code",
   "execution_count": 33,
   "id": "3ff3a623",
   "metadata": {},
   "outputs": [
    {
     "name": "stdout",
     "output_type": "stream",
     "text": [
      " 1 Mercury    057.91 Gm\n",
      " 2 Venus      108.20 Gm\n",
      " 3 Earth      149.46 Gm\n",
      " 4 Mars       227.94 Gm\n"
     ]
    }
   ],
   "source": [
    "# {d} digital = an integer number, {s} = string, {f} = float\n",
    "planets = {'Mercury': 57.91, 'Venus': 108.2, 'Earth': 149.45670, 'Mars': 227.94}\n",
    "\n",
    "for i, key in enumerate(planets.keys(), 1):\n",
    "    print(\"{:2d} {:<10s} {:06.2f} Gm\".format(i, key, planets[key]))"
   ]
  },
  {
   "cell_type": "code",
   "execution_count": 34,
   "id": "911d0730",
   "metadata": {},
   "outputs": [
    {
     "name": "stdout",
     "output_type": "stream",
     "text": [
      "    1 Mercury         057.91 Gm\n",
      "    2 Venus           108.20 Gm\n",
      "    3 Earth           149.46 Gm\n",
      "    4 Mars            227.94 Gm\n"
     ]
    }
   ],
   "source": [
    "planets = {'Mercury': 57.91, 'Venus': 108.2, 'Earth': 149.45670, 'Mars': 227.94}\n",
    "\n",
    "for i, key in enumerate(planets.keys(), 1):\n",
    "    print(\"{:5d} {:<15s} {:06.2f} Gm\".format(i, key, planets[key]))"
   ]
  },
  {
   "cell_type": "code",
   "execution_count": 43,
   "id": "317e398c",
   "metadata": {},
   "outputs": [
    {
     "name": "stdout",
     "output_type": "stream",
     "text": [
      "Hello world\n",
      "Hello World\n",
      "HELLO WORLD\n",
      "<   hello    >\n",
      "<hello       >\n",
      "<       hello>\n",
      "<0000000hello>\n"
     ]
    }
   ],
   "source": [
    "text3 = 'hello'\n",
    "print(text.capitalize())\n",
    "print(text.title())\n",
    "print(text.upper())\n",
    "print('<'+text3.center (12)+'>')\n",
    "print('<'+text3.ljust (12)+'>')\n",
    "print('<'+text3.rjust (12)+'>')\n",
    "print('<'+text3.zfill (12)+'>')"
   ]
  },
  {
   "cell_type": "markdown",
   "id": "a3cdad5b",
   "metadata": {},
   "source": [
    "# LITERAL STRING INTERPOLATION"
   ]
  },
  {
   "cell_type": "code",
   "execution_count": 50,
   "id": "b614c524",
   "metadata": {},
   "outputs": [
    {
     "name": "stdout",
     "output_type": "stream",
     "text": [
      "The third member is Jane\n"
     ]
    }
   ],
   "source": [
    "# f-string\n",
    "names = ['Tom', 'Harry', 'Jane']\n",
    "s = f\"The third member is {names[2]}\"\n",
    "print(s)"
   ]
  },
  {
   "cell_type": "code",
   "execution_count": 46,
   "id": "67a0425e",
   "metadata": {},
   "outputs": [
    {
     "name": "stdout",
     "output_type": "stream",
     "text": [
      " 1 Mercury    057.91 Gm\n",
      " 2 Venus      108.20 Gm\n",
      " 3 Earth      149.46 Gm\n",
      " 4 Mars       227.94 Gm\n"
     ]
    }
   ],
   "source": [
    "for i, key in enumerate(planets.keys(), 1):\n",
    "    print(f\"{i:2d} {key:<10s} {planets[key]:06.2f} Gm\")"
   ]
  },
  {
   "cell_type": "markdown",
   "id": "5a50cb4f",
   "metadata": {},
   "source": [
    "# LITERAL STRING INTERPOLATION (2)"
   ]
  },
  {
   "cell_type": "code",
   "execution_count": 51,
   "id": "7e3d5407",
   "metadata": {},
   "outputs": [
    {
     "name": "stdout",
     "output_type": "stream",
     "text": [
      "2nd of 3 is Harry\n"
     ]
    }
   ],
   "source": [
    "names = ['Tom', 'Harry', 'Jane']\n",
    "suffix = ['st', 'nd', 'rd', 'th']\n",
    "n = 1\n",
    "s = f\"{str(n+1) + suffix[n]} of {len(names)} is {names[n]}\"\n",
    "print(s)"
   ]
  },
  {
   "cell_type": "code",
   "execution_count": null,
   "id": "ef5784b1",
   "metadata": {},
   "outputs": [],
   "source": [
    "## f-stfings supports only Unicode"
   ]
  }
 ],
 "metadata": {
  "kernelspec": {
   "display_name": "Python 3 (ipykernel)",
   "language": "python",
   "name": "python3"
  },
  "language_info": {
   "codemirror_mode": {
    "name": "ipython",
    "version": 3
   },
   "file_extension": ".py",
   "mimetype": "text/x-python",
   "name": "python",
   "nbconvert_exporter": "python",
   "pygments_lexer": "ipython3",
   "version": "3.7.3"
  }
 },
 "nbformat": 4,
 "nbformat_minor": 5
}
